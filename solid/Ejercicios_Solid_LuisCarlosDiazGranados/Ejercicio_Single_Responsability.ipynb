{
 "cells": [
  {
   "cell_type": "code",
   "execution_count": 29,
   "metadata": {},
   "outputs": [],
   "source": [
    "class Student:\n",
    "    def __init__(self, name:str, codigo:int, nota1: int, nota2: int,  asignatura: str) -> None:\n",
    "        self.name: str = name\n",
    "        self.codigo: int = codigo\n",
    "        self.nota1: int = nota1\n",
    "        self.nota2: int = nota2\n",
    "        self.asignatura: str = asignatura\n",
    "\n",
    "    def get_name(self) -> str:\n",
    "        return self.name\n",
    "\n",
    "    def get_asignatura(self) -> str:\n",
    "        return self.asignatura\n",
    "\n",
    "    def calcular_nota(self) -> int:\n",
    "        return self.nota1 + self.nota2\n",
    "\n",
    "    def print_nota_asignatura(self) -> None:\n",
    "        print(\"Notas del Estudiante\")\n",
    "        print(\"Nombre:\", self.get_name())\n",
    "        print(\"La asignatura es:\", self.get_asignatura())\n",
    "        print(\"La nota definitiva es:\", self.calcular_nota())"
   ]
  },
  {
   "cell_type": "code",
   "execution_count": 37,
   "metadata": {},
   "outputs": [
    {
     "name": "stdout",
     "output_type": "stream",
     "text": [
      "Notas del Estudiante\n",
      "Nombre: Luis\n",
      "La asignatura es: A\n",
      "La nota definitiva es: 200\n"
     ]
    }
   ],
   "source": [
    "student = Student(name=\"Luis\", codigo=200, nota1=100, nota2=100, asignatura=\"A\")\n",
    "student.print_nota_asignatura()"
   ]
  },
  {
   "cell_type": "code",
   "execution_count": 39,
   "metadata": {},
   "outputs": [],
   "source": [
    "class Student:\n",
    "    def __init__(self, name:str, codigo:int, nota1: int, nota2: int,  asignatura: str) -> None:\n",
    "        self.name: str = name\n",
    "        self.codigo: int = codigo\n",
    "        self.nota1: int = nota1\n",
    "        self.nota2: int = nota2\n",
    "        self.asignatura: str = asignatura\n",
    "\n",
    "    def get_name(self) -> str:\n",
    "        return self.name\n",
    "\n",
    "    def get_asignatura(self) -> str:\n",
    "        return self.asignatura\n",
    "\n",
    "class Reporte:\n",
    "    def __init__(self, student: Student) -> None:\n",
    "        self.student: Student = student\n",
    "\n",
    "    def calcular_nota(self) -> int:\n",
    "        return self.student.nota1 + self.student.nota2\n",
    "\n",
    "    def print_nota_asignatura(self) -> None:\n",
    "        print(\"Notas del Estudiante\")\n",
    "        print(\"Nombre:\", self.student.get_name())\n",
    "        print(\"La asignatura es:\", self.student.asignatura)\n",
    "        print(\"La nota definitiva es:\", self.calcular_nota())"
   ]
  },
  {
   "cell_type": "code",
   "execution_count": 40,
   "metadata": {},
   "outputs": [
    {
     "name": "stdout",
     "output_type": "stream",
     "text": [
      "Notas del Estudiante\n",
      "Nombre: Luis\n",
      "La asignatura es: A\n",
      "La nota definitiva es: 200\n"
     ]
    }
   ],
   "source": [
    "student = Student(name=\"Luis\", codigo=200, nota1=100, nota2=100, asignatura=\"A\")\n",
    "reporte = Reporte(student)\n",
    "reporte.print_nota_asignatura()"
   ]
  }
 ],
 "metadata": {
  "kernelspec": {
   "display_name": "venv",
   "language": "python",
   "name": "python3"
  },
  "language_info": {
   "codemirror_mode": {
    "name": "ipython",
    "version": 3
   },
   "file_extension": ".py",
   "mimetype": "text/x-python",
   "name": "python",
   "nbconvert_exporter": "python",
   "pygments_lexer": "ipython3",
   "version": "3.11.9"
  }
 },
 "nbformat": 4,
 "nbformat_minor": 2
}
