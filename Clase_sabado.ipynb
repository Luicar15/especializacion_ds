{
 "cells": [
  {
   "cell_type": "markdown",
   "metadata": {},
   "source": [
    "POO\n",
    "Ejercicio de Abstracción"
   ]
  },
  {
   "cell_type": "markdown",
   "metadata": {},
   "source": [
    "# Ejericicio de Abstracción"
   ]
  },
  {
   "cell_type": "markdown",
   "metadata": {},
   "source": [
    "# Conductor"
   ]
  },
  {
   "cell_type": "code",
   "execution_count": 23,
   "metadata": {},
   "outputs": [],
   "source": [
    "class VehiculoTransportePublico:\n",
    "    def __init__(self, marca: str, modelo: int, color: str, precio: int,Kilometraje: int) -> None:\n",
    "        self.marca = marca\n",
    "        self.modelo = modelo\n",
    "        self.color = color\n",
    "        self.precio = precio\n",
    "        self.Kilometraje = Kilometraje\n",
    "    def Conducir(self):\n",
    "        print(f\"Estas manejando un carro de modelo {self.modelo}\")\n",
    "\n"
   ]
  },
  {
   "cell_type": "code",
   "execution_count": 24,
   "metadata": {},
   "outputs": [
    {
     "name": "stdout",
     "output_type": "stream",
     "text": [
      "Estas manejando un carro de modelo 2000\n"
     ]
    }
   ],
   "source": [
    "vehiculotransporte = VehiculoTransportePublico(marca=\"Suzuki\", modelo=2000, color=\"rojo\", precio=100000, Kilometraje=12500)\n",
    "vehiculotransporte.Conducir()"
   ]
  },
  {
   "cell_type": "code",
   "execution_count": 22,
   "metadata": {},
   "outputs": [
    {
     "name": "stdout",
     "output_type": "stream",
     "text": [
      "Estas manejando un carro de modelo 2002\n"
     ]
    },
    {
     "data": {
      "text/plain": [
       "'Suzuki'"
      ]
     },
     "execution_count": 22,
     "metadata": {},
     "output_type": "execute_result"
    }
   ],
   "source": [
    "conductor2 = VehiculoTransportePublico(marca=\"Suzuki\", modelo=2002, color=\"rojo\", precio=100000, Kilometraje=12500)\n",
    "conductor2.Conducir()\n",
    "conductor2.marca"
   ]
  },
  {
   "cell_type": "markdown",
   "metadata": {},
   "source": [
    "# Pasajero"
   ]
  },
  {
   "cell_type": "code",
   "execution_count": 25,
   "metadata": {},
   "outputs": [],
   "source": [
    "class VehiculoTransportePublico:\n",
    "    def __init__(self, ruta: str, asientos: int, color: str, preciopasaje: int) -> None:\n",
    "        self.ruta = ruta\n",
    "        self.asientos = asientos\n",
    "        self.color = color\n",
    "        self.preciopasaje = preciopasaje\n",
    "    def tomarBus(self):\n",
    "        print(f\"La proxima ruta es {self.ruta}\")\n"
   ]
  },
  {
   "cell_type": "code",
   "execution_count": 26,
   "metadata": {},
   "outputs": [
    {
     "name": "stdout",
     "output_type": "stream",
     "text": [
      "La proxima ruta es Libano\n"
     ]
    }
   ],
   "source": [
    "vehiculotransporte = VehiculoTransportePublico(ruta=\"Libano\", asientos=\"15\", color=\"Morado\", preciopasaje=1500)\n",
    "vehiculotransporte.tomarBus()"
   ]
  },
  {
   "cell_type": "markdown",
   "metadata": {},
   "source": [
    "# Ejercicio de Interfaz"
   ]
  },
  {
   "cell_type": "code",
   "execution_count": 27,
   "metadata": {},
   "outputs": [],
   "source": [
    "from abc import ABC, abstractmethod\n",
    "\n",
    "\n",
    "class CajeroAutomatico(ABC):\n",
    "    @abstractmethod\n",
    "    def retirar_dinero(self) -> None:\n",
    "        pass\n",
    "\n",
    "    @abstractmethod\n",
    "    def verificar_saldo(self) -> None:\n",
    "        pass\n",
    "\n",
    "    @abstractmethod\n",
    "    def realizar_transferencia(self) -> None:\n",
    "        pass\n"
   ]
  },
  {
   "cell_type": "code",
   "execution_count": 32,
   "metadata": {},
   "outputs": [],
   "source": [
    "class CajeroAutomaticoBancolombia(CajeroAutomatico):\n",
    "    def retirar_dinero(self) -> None:\n",
    "        print(\"Cliente Bancolombia->Su retiro de dinero fue exitoso\")\n",
    "\n",
    "    def verificar_saldo(self) -> None:\n",
    "        print(\"Cliente Bancolombia->su nuevo saldo es de: XXX\")\n",
    "\n",
    "    def realizar_transferencia(self) -> None:\n",
    "        print(\"Cliente Bancolombia->transferencia exitosa\")\n"
   ]
  },
  {
   "cell_type": "code",
   "execution_count": 33,
   "metadata": {},
   "outputs": [
    {
     "name": "stdout",
     "output_type": "stream",
     "text": [
      "Cliente Bancolombia->su nuevo saldo es de: XXX\n"
     ]
    }
   ],
   "source": [
    "cajeroautomaticoBancolombia = CajeroAutomaticoBancolombia()\n",
    "cajeroautomaticoBancolombia.verificar_saldo()"
   ]
  },
  {
   "cell_type": "code",
   "execution_count": 34,
   "metadata": {},
   "outputs": [],
   "source": [
    "class CajeroAutomaticoCajaSocial(CajeroAutomatico):\n",
    "    def retirar_dinero(self) -> None:\n",
    "        print(\"Cliente Caja Social->Su retiro de dinero fue exitoso\")\n",
    "\n",
    "    def verificar_saldo(self) -> None:\n",
    "        print(\"Cliente Caja Social->su nuevo saldo es de: XXX\")\n",
    "\n",
    "    def realizar_transferencia(self) -> None:\n",
    "        print(\"Cliente Caja Social->transferencia exitosa\")"
   ]
  },
  {
   "cell_type": "code",
   "execution_count": 35,
   "metadata": {},
   "outputs": [
    {
     "name": "stdout",
     "output_type": "stream",
     "text": [
      "Cliente Caja Social->Su retiro de dinero fue exitoso\n"
     ]
    }
   ],
   "source": [
    "cajeroautomaticoCajaSocial = CajeroAutomaticoCajaSocial()\n",
    "cajeroautomaticoCajaSocial.retirar_dinero()"
   ]
  }
 ],
 "metadata": {
  "kernelspec": {
   "display_name": "venv",
   "language": "python",
   "name": "python3"
  },
  "language_info": {
   "codemirror_mode": {
    "name": "ipython",
    "version": 3
   },
   "file_extension": ".py",
   "mimetype": "text/x-python",
   "name": "python",
   "nbconvert_exporter": "python",
   "pygments_lexer": "ipython3",
   "version": "3.11.9"
  }
 },
 "nbformat": 4,
 "nbformat_minor": 2
}
