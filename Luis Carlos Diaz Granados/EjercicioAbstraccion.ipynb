{
 "cells": [
  {
   "cell_type": "markdown",
   "metadata": {},
   "source": [
    "# Conductor"
   ]
  },
  {
   "cell_type": "code",
   "execution_count": 1,
   "metadata": {},
   "outputs": [],
   "source": [
    "class VehiculoTransportePublico:\n",
    "    def __init__(self, marca: str, modelo: int, color: str, precio: int,Kilometraje: int) -> None:\n",
    "        self.marca = marca\n",
    "        self.modelo = modelo\n",
    "        self.color = color\n",
    "        self.precio = precio\n",
    "        self.Kilometraje = Kilometraje\n",
    "    def Conducir(self):\n",
    "        print(f\"Estas manejando un carro de modelo {self.modelo}\")\n"
   ]
  },
  {
   "cell_type": "code",
   "execution_count": 2,
   "metadata": {},
   "outputs": [
    {
     "name": "stdout",
     "output_type": "stream",
     "text": [
      "Estas manejando un carro de modelo 2000\n"
     ]
    }
   ],
   "source": [
    "vehiculotransporte = VehiculoTransportePublico(marca=\"Suzuki\", modelo=2000, color=\"rojo\", precio=100000, Kilometraje=12500)\n",
    "vehiculotransporte.Conducir()"
   ]
  },
  {
   "cell_type": "code",
   "execution_count": 3,
   "metadata": {},
   "outputs": [
    {
     "name": "stdout",
     "output_type": "stream",
     "text": [
      "Estas manejando un carro de modelo 2002\n"
     ]
    },
    {
     "data": {
      "text/plain": [
       "'Suzuki'"
      ]
     },
     "execution_count": 3,
     "metadata": {},
     "output_type": "execute_result"
    }
   ],
   "source": [
    "conductor2 = VehiculoTransportePublico(marca=\"Suzuki\", modelo=2002, color=\"rojo\", precio=100000, Kilometraje=12500)\n",
    "conductor2.Conducir()\n",
    "conductor2.marca"
   ]
  },
  {
   "cell_type": "markdown",
   "metadata": {},
   "source": [
    "# Pasajero"
   ]
  },
  {
   "cell_type": "code",
   "execution_count": 4,
   "metadata": {},
   "outputs": [],
   "source": [
    "class VehiculoTransportePublico:\n",
    "    def __init__(self, ruta: str, asientos: int, color: str, preciopasaje: int) -> None:\n",
    "        self.ruta = ruta\n",
    "        self.asientos = asientos\n",
    "        self.color = color\n",
    "        self.preciopasaje = preciopasaje\n",
    "    def tomarBus(self):\n",
    "        print(f\"La proxima ruta es {self.ruta}\")\n"
   ]
  },
  {
   "cell_type": "code",
   "execution_count": 5,
   "metadata": {},
   "outputs": [
    {
     "name": "stdout",
     "output_type": "stream",
     "text": [
      "La proxima ruta es Libano\n"
     ]
    }
   ],
   "source": [
    "vehiculotransporte = VehiculoTransportePublico(ruta=\"Libano\", asientos=\"15\", color=\"Morado\", preciopasaje=1500)\n",
    "vehiculotransporte.tomarBus()"
   ]
  }
 ],
 "metadata": {
  "kernelspec": {
   "display_name": "venv",
   "language": "python",
   "name": "python3"
  },
  "language_info": {
   "codemirror_mode": {
    "name": "ipython",
    "version": 3
   },
   "file_extension": ".py",
   "mimetype": "text/x-python",
   "name": "python",
   "nbconvert_exporter": "python",
   "pygments_lexer": "ipython3",
   "version": "3.11.9"
  }
 },
 "nbformat": 4,
 "nbformat_minor": 2
}
