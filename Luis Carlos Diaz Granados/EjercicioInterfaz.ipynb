{
 "cells": [
  {
   "cell_type": "code",
   "execution_count": 1,
   "metadata": {},
   "outputs": [],
   "source": [
    "from abc import ABC, abstractmethod\n",
    "\n",
    "\n",
    "class CajeroAutomatico(ABC):\n",
    "    @abstractmethod\n",
    "    def retirar_dinero(self) -> None:\n",
    "        pass\n",
    "\n",
    "    @abstractmethod\n",
    "    def verificar_saldo(self) -> None:\n",
    "        pass\n",
    "\n",
    "    @abstractmethod\n",
    "    def realizar_transferencia(self) -> None:\n",
    "        pass"
   ]
  },
  {
   "cell_type": "code",
   "execution_count": 2,
   "metadata": {},
   "outputs": [],
   "source": [
    "class CajeroAutomaticoBancolombia(CajeroAutomatico):\n",
    "    def retirar_dinero(self) -> None:\n",
    "        print(\"Cliente Bancolombia->Su retiro de dinero fue exitoso\")\n",
    "\n",
    "    def verificar_saldo(self) -> None:\n",
    "        print(\"Cliente Bancolombia->su nuevo saldo es de: XXX\")\n",
    "\n",
    "    def realizar_transferencia(self) -> None:\n",
    "        print(\"Cliente Bancolombia->transferencia exitosa\")"
   ]
  },
  {
   "cell_type": "code",
   "execution_count": 3,
   "metadata": {},
   "outputs": [
    {
     "name": "stdout",
     "output_type": "stream",
     "text": [
      "Cliente Bancolombia->su nuevo saldo es de: XXX\n"
     ]
    }
   ],
   "source": [
    "cajeroautomaticoBancolombia = CajeroAutomaticoBancolombia()\n",
    "cajeroautomaticoBancolombia.verificar_saldo()"
   ]
  },
  {
   "cell_type": "code",
   "execution_count": 4,
   "metadata": {},
   "outputs": [],
   "source": [
    "class CajeroAutomaticoCajaSocial(CajeroAutomatico):\n",
    "    def retirar_dinero(self) -> None:\n",
    "        print(\"Cliente Caja Social->Su retiro de dinero fue exitoso\")\n",
    "\n",
    "    def verificar_saldo(self) -> None:\n",
    "        print(\"Cliente Caja Social->su nuevo saldo es de: XXX\")\n",
    "\n",
    "    def realizar_transferencia(self) -> None:\n",
    "        print(\"Cliente Caja Social->transferencia exitosa\")"
   ]
  },
  {
   "cell_type": "code",
   "execution_count": 5,
   "metadata": {},
   "outputs": [
    {
     "name": "stdout",
     "output_type": "stream",
     "text": [
      "Cliente Caja Social->Su retiro de dinero fue exitoso\n"
     ]
    }
   ],
   "source": [
    "cajeroautomaticoCajaSocial = CajeroAutomaticoCajaSocial()\n",
    "cajeroautomaticoCajaSocial.retirar_dinero()"
   ]
  }
 ],
 "metadata": {
  "kernelspec": {
   "display_name": "venv",
   "language": "python",
   "name": "python3"
  },
  "language_info": {
   "codemirror_mode": {
    "name": "ipython",
    "version": 3
   },
   "file_extension": ".py",
   "mimetype": "text/x-python",
   "name": "python",
   "nbconvert_exporter": "python",
   "pygments_lexer": "ipython3",
   "version": "3.11.9"
  }
 },
 "nbformat": 4,
 "nbformat_minor": 2
}
