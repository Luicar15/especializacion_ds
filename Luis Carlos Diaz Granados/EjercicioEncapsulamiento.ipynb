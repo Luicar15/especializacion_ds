{
 "cells": [
  {
   "cell_type": "code",
   "execution_count": 1,
   "metadata": {},
   "outputs": [],
   "source": [
    "class Persona:\n",
    "    def __init__(self, nombre, edad):\n",
    "        self.nombre = nombre\n",
    "        self.__edad = edad\n",
    "\n",
    "    def obtener_edad(self):\n",
    "        return self.__edad\n",
    "\n",
    "    def establecer_edad(self, nueva_edad):\n",
    "        if nueva_edad > 0:\n",
    "            self.__edad = nueva_edad"
   ]
  },
  {
   "cell_type": "code",
   "execution_count": 15,
   "metadata": {},
   "outputs": [],
   "source": [
    "persona1 = Persona(\"Juan\", 30)"
   ]
  },
  {
   "cell_type": "code",
   "execution_count": 20,
   "metadata": {},
   "outputs": [
    {
     "name": "stdout",
     "output_type": "stream",
     "text": [
      "Edad de Juan: 35\n",
      "Nueva edad de Juan: 35\n"
     ]
    }
   ],
   "source": [
    "print(\"Edad de\", persona1.nombre + \":\", persona1.obtener_edad())\n",
    "persona1.establecer_edad(35)\n",
    "print(\"Nueva edad de\", persona1.nombre + \":\", persona1.obtener_edad())"
   ]
  }
 ],
 "metadata": {
  "kernelspec": {
   "display_name": "venv",
   "language": "python",
   "name": "python3"
  },
  "language_info": {
   "codemirror_mode": {
    "name": "ipython",
    "version": 3
   },
   "file_extension": ".py",
   "mimetype": "text/x-python",
   "name": "python",
   "nbconvert_exporter": "python",
   "pygments_lexer": "ipython3",
   "version": "3.11.9"
  }
 },
 "nbformat": 4,
 "nbformat_minor": 2
}
