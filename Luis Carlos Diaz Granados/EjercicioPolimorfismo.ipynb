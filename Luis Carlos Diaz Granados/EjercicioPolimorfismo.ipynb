{
 "cells": [
  {
   "cell_type": "code",
   "execution_count": 1,
   "metadata": {},
   "outputs": [],
   "source": [
    "class NacionalidadPersona:\n",
    "    def idioma(self):\n",
    "        pass\n",
    "\n",
    "class Colombiano(NacionalidadPersona):\n",
    "    def idioma(self):\n",
    "        print(\"Español\")\n",
    "\n",
    "class Brasilero(NacionalidadPersona):\n",
    "    def idioma(self):\n",
    "        print(\"Portugues\")"
   ]
  },
  {
   "cell_type": "code",
   "execution_count": 2,
   "metadata": {},
   "outputs": [
    {
     "name": "stdout",
     "output_type": "stream",
     "text": [
      "Español\n",
      "Portugues\n"
     ]
    }
   ],
   "source": [
    "for NacionalidadPersona in Colombiano(), Brasilero():\n",
    "    NacionalidadPersona.idioma()"
   ]
  }
 ],
 "metadata": {
  "kernelspec": {
   "display_name": "venv",
   "language": "python",
   "name": "python3"
  },
  "language_info": {
   "codemirror_mode": {
    "name": "ipython",
    "version": 3
   },
   "file_extension": ".py",
   "mimetype": "text/x-python",
   "name": "python",
   "nbconvert_exporter": "python",
   "pygments_lexer": "ipython3",
   "version": "3.11.9"
  }
 },
 "nbformat": 4,
 "nbformat_minor": 2
}
