{
 "cells": [
  {
   "cell_type": "code",
   "execution_count": 15,
   "metadata": {},
   "outputs": [],
   "source": [
    "from abc import ABC, abstractmethod\n",
    "\n",
    "class Vehiculo(ABC):\n",
    "    def __init__(self, marca: str, modelo: str) -> None:\n",
    "        self.marca = marca\n",
    "        self.modelo = modelo\n",
    "\n",
    "    def mostrarInformacion(self):\n",
    "        print(f\"Marca:{self.marca}, Modelo:{self.modelo}\")\n"
   ]
  },
  {
   "cell_type": "code",
   "execution_count": 16,
   "metadata": {},
   "outputs": [],
   "source": [
    "class Automovil(Vehiculo):\n",
    "    def __init__(self, marca: str, modelo: str, color: str) -> None:\n",
    "        super().__init__(marca, modelo)\n",
    "        self.color = color\n",
    "\n",
    "    def mostrarInformacion(self):\n",
    "        super().mostrarInformacion()\n",
    "        print(f\"El Color del Automovil es: {self.color}\")"
   ]
  },
  {
   "cell_type": "code",
   "execution_count": 17,
   "metadata": {},
   "outputs": [],
   "source": [
    "class Moto(Vehiculo):\n",
    "    def __init__(self, marca: str, modelo: str, cilindraje: str) -> None:\n",
    "        super().__init__(marca, modelo)\n",
    "        self.cilindraje = cilindraje\n",
    "\n",
    "    def mostrarInformacion(self):\n",
    "        super().mostrarInformacion()\n",
    "        print(f\"El Cilindraje de la moto es: {self.cilindraje}\")"
   ]
  },
  {
   "cell_type": "code",
   "execution_count": 19,
   "metadata": {},
   "outputs": [
    {
     "name": "stdout",
     "output_type": "stream",
     "text": [
      "Marca:Toyota, Modelo:2005\n",
      "El Color del Automovil es: Blanca\n"
     ]
    }
   ],
   "source": [
    "auto = Automovil(\"Toyota\", \"2005\", \"Blanca\")\n",
    "auto.mostrarInformacion()\n"
   ]
  },
  {
   "cell_type": "code",
   "execution_count": 20,
   "metadata": {},
   "outputs": [
    {
     "name": "stdout",
     "output_type": "stream",
     "text": [
      "Marca:Yamaha, Modelo:2024\n",
      "El Cilindraje de la moto es: 200\n"
     ]
    }
   ],
   "source": [
    "moto = Moto(\"Yamaha\", \"2024\", \"200\")\n",
    "moto.mostrarInformacion()"
   ]
  }
 ],
 "metadata": {
  "kernelspec": {
   "display_name": "venv",
   "language": "python",
   "name": "python3"
  },
  "language_info": {
   "codemirror_mode": {
    "name": "ipython",
    "version": 3
   },
   "file_extension": ".py",
   "mimetype": "text/x-python",
   "name": "python",
   "nbconvert_exporter": "python",
   "pygments_lexer": "ipython3",
   "version": "3.11.9"
  }
 },
 "nbformat": 4,
 "nbformat_minor": 2
}
