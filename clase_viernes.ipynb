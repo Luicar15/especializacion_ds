{
 "cells": [
  {
   "cell_type": "code",
   "execution_count": null,
   "metadata": {},
   "outputs": [],
   "source": []
  },
  {
   "cell_type": "code",
   "execution_count": null,
   "metadata": {},
   "outputs": [],
   "source": [
    "manzana: int = 5\n",
    "print(manzana)\n",
    "manzana: float = 5.5\n",
    "print(manzana)\n",
    "manzana: str = \"Compré 5 manzanas\"\n",
    "print(manzana)\n",
    "manzana: bool = True\n",
    "print(manzana)"
   ]
  },
  {
   "cell_type": "code",
   "execution_count": null,
   "metadata": {},
   "outputs": [],
   "source": [
    "bienes_dian: dict = {\n",
    "    \"casa\": 1,\n",
    "    \"perro\": 2,\n",
    "}\n",
    "\n",
    "lista_compra: list = [\"leche\", \"pan\", \"huevos\"]\n",
    "\n",
    "tuplas: tuple = (1, 2, 3)"
   ]
  },
  {
   "cell_type": "code",
   "execution_count": 1,
   "metadata": {},
   "outputs": [],
   "source": [
    "def send_email(to: str, body: str) -> None:\n",
    "    print(f\"Sending email to {to} with body {body}\")"
   ]
  },
  {
   "cell_type": "code",
   "execution_count": 4,
   "metadata": {},
   "outputs": [
    {
     "name": "stdout",
     "output_type": "stream",
     "text": [
      "LLamando 123\n"
     ]
    }
   ],
   "source": [
    "def llamar_policia():\n",
    "    print(\"LLamando 123\")\n",
    "\n",
    "llamar_policia()"
   ]
  },
  {
   "cell_type": "code",
   "execution_count": 3,
   "metadata": {},
   "outputs": [
    {
     "name": "stdout",
     "output_type": "stream",
     "text": [
      "Creó usuario\n"
     ]
    },
    {
     "ename": "NameError",
     "evalue": "name 'send_email' is not defined",
     "output_type": "error",
     "traceback": [
      "\u001b[1;31m---------------------------------------------------------------------------\u001b[0m",
      "\u001b[1;31mNameError\u001b[0m                                 Traceback (most recent call last)",
      "Cell \u001b[1;32mIn[3], line 4\u001b[0m\n\u001b[0;32m      2\u001b[0m user \u001b[38;5;241m=\u001b[39m \u001b[38;5;124m\"\u001b[39m\u001b[38;5;124mfake@gmail.com\u001b[39m\u001b[38;5;124m\"\u001b[39m\n\u001b[0;32m      3\u001b[0m body \u001b[38;5;241m=\u001b[39m \u001b[38;5;124m\"\u001b[39m\u001b[38;5;124mHola, soy un correo falso\u001b[39m\u001b[38;5;124m\"\u001b[39m\n\u001b[1;32m----> 4\u001b[0m \u001b[43msend_email\u001b[49m(to\u001b[38;5;241m=\u001b[39muser, body\u001b[38;5;241m=\u001b[39mbody)\n\u001b[0;32m      6\u001b[0m \u001b[38;5;28mprint\u001b[39m(\u001b[38;5;124m\"\u001b[39m\u001b[38;5;124mOlvidó contraseña\u001b[39m\u001b[38;5;124m\"\u001b[39m)\n\u001b[0;32m      7\u001b[0m body \u001b[38;5;241m=\u001b[39m \u001b[38;5;124m\"\u001b[39m\u001b[38;5;124mHola, olvidaste tu contraseña\u001b[39m\u001b[38;5;124m\"\u001b[39m\n",
      "\u001b[1;31mNameError\u001b[0m: name 'send_email' is not defined"
     ]
    }
   ],
   "source": [
    "print(\"Creó usuario\")\n",
    "user = \"fake@gmail.com\"\n",
    "body = \"Hola, soy un correo falso\"\n",
    "send_email(to=user, body=body)\n",
    "\n",
    "print(\"Olvidó contraseña\")\n",
    "body = \"Hola, olvidaste tu contraseña\"\n",
    "send_email(to=user, body=body)"
   ]
  },
  {
   "cell_type": "code",
   "execution_count": 7,
   "metadata": {},
   "outputs": [],
   "source": [
    "class Cat:\n",
    "    def __init__(self, name: str, gender: str, age: int, weight: float, color: str) -> None:\n",
    "        self.name = name\n",
    "        self.gender = gender\n",
    "        self.age = age\n",
    "        self.weight = weight\n",
    "        self.color = color\n",
    "\n",
    "    def breathe(self) -> None:\n",
    "        print(\"Estoy respirando\")"
   ]
  },
  {
   "cell_type": "code",
   "execution_count": 11,
   "metadata": {},
   "outputs": [
    {
     "name": "stdout",
     "output_type": "stream",
     "text": [
      "Paco\n",
      "Estoy respirando\n"
     ]
    }
   ],
   "source": [
    "gato_paco = Cat(name=\"Paco\", gender=\"Macho\", age=2, weight=\"5.5\", color=\"negro\")\n",
    "print(gato_paco.name)\n",
    "gato_paco.breathe()"
   ]
  },
  {
   "cell_type": "code",
   "execution_count": 2,
   "metadata": {},
   "outputs": [
    {
     "ename": "NameError",
     "evalue": "name 'Cat' is not defined",
     "output_type": "error",
     "traceback": [
      "\u001b[1;31m---------------------------------------------------------------------------\u001b[0m",
      "\u001b[1;31mNameError\u001b[0m                                 Traceback (most recent call last)",
      "Cell \u001b[1;32mIn[2], line 1\u001b[0m\n\u001b[1;32m----> 1\u001b[0m gato_lulu \u001b[38;5;241m=\u001b[39m \u001b[43mCat\u001b[49m(name\u001b[38;5;241m=\u001b[39m\u001b[38;5;124m\"\u001b[39m\u001b[38;5;124mLulu\u001b[39m\u001b[38;5;124m\"\u001b[39m, gender\u001b[38;5;241m=\u001b[39m\u001b[38;5;124m\"\u001b[39m\u001b[38;5;124mHembra\u001b[39m\u001b[38;5;124m\"\u001b[39m, age\u001b[38;5;241m=\u001b[39m\u001b[38;5;241m2\u001b[39m, weight\u001b[38;5;241m=\u001b[39m\u001b[38;5;124m\"\u001b[39m\u001b[38;5;124m5.5\u001b[39m\u001b[38;5;124m\"\u001b[39m, color\u001b[38;5;241m=\u001b[39m\u001b[38;5;124m\"\u001b[39m\u001b[38;5;124mnegro\u001b[39m\u001b[38;5;124m\"\u001b[39m)\n\u001b[0;32m      2\u001b[0m \u001b[38;5;28mprint\u001b[39m(gato_lulu\u001b[38;5;241m.\u001b[39mname)\n\u001b[0;32m      3\u001b[0m gato_lulu\u001b[38;5;241m.\u001b[39mbreathe()\n",
      "\u001b[1;31mNameError\u001b[0m: name 'Cat' is not defined"
     ]
    }
   ],
   "source": [
    "gato_lulu = Cat(name=\"Lulu\", gender=\"Hembra\", age=2, weight=\"5.5\", color=\"negro\")\n",
    "print(gato_lulu.name)\n",
    "gato_lulu.breathe()"
   ]
  }
 ],
 "metadata": {
  "kernelspec": {
   "display_name": ".venv",
   "language": "python",
   "name": "python3"
  },
  "language_info": {
   "codemirror_mode": {
    "name": "ipython",
    "version": 3
   },
   "file_extension": ".py",
   "mimetype": "text/x-python",
   "name": "python",
   "nbconvert_exporter": "python",
   "pygments_lexer": "ipython3",
   "version": "3.11.9"
  }
 },
 "nbformat": 4,
 "nbformat_minor": 2
}
